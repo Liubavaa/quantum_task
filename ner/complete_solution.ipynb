{
 "cells": [
  {
   "metadata": {},
   "cell_type": "markdown",
   "source": "This is an additional notebook containing the fully combined code to perform this task.",
   "id": "7bef4e273fcaa960"
  },
  {
   "metadata": {},
   "cell_type": "code",
   "outputs": [],
   "execution_count": null,
   "source": [
    "from huggingface_hub import notebook_login\n",
    "\n",
    "notebook_login()"
   ],
   "id": "7eca34f4118a6f3c"
  },
  {
   "metadata": {
    "ExecuteTime": {
     "end_time": "2024-11-06T20:45:02.069524Z",
     "start_time": "2024-11-06T20:45:02.022466Z"
    }
   },
   "cell_type": "code",
   "source": [
    "import re\n",
    "\n",
    "\n",
    "def get_formatted_data(file_path):\n",
    "    with open(file_path, \"r\", encoding=\"UTF-8\") as file:\n",
    "        lines = file.readlines()\n",
    "\n",
    "    formatted_data = []\n",
    "    i = 0\n",
    "    while i < len(lines):\n",
    "        sentence = lines[i].strip()\n",
    "        if sentence:\n",
    "            i += 1\n",
    "            mountains = lines[i].strip().split(\", \")\n",
    "            labels = [] \n",
    "            if mountains[0] != \"\":  # No mountains name in sentence\n",
    "                for mountain in mountains:\n",
    "                    match = re.search(re.escape(mountain), sentence)\n",
    "                    if match:\n",
    "                        start_idx = match.start()\n",
    "                        labels.append([start_idx, len(mountain), \"MOUNT\"])\n",
    "    \n",
    "            formatted_data.append({\n",
    "                \"text\": sentence,\n",
    "                \"label\": labels\n",
    "            })\n",
    "        i += 1\n",
    "    \n",
    "    return formatted_data"
   ],
   "id": "cc9da1b1733165be",
   "outputs": [],
   "execution_count": 77
  },
  {
   "metadata": {
    "ExecuteTime": {
     "end_time": "2024-11-06T20:45:02.944914Z",
     "start_time": "2024-11-06T20:45:02.891205Z"
    }
   },
   "cell_type": "code",
   "source": "data = get_formatted_data('data/generated_dataset.txt')",
   "id": "62706725e9d12e2b",
   "outputs": [],
   "execution_count": 78
  },
  {
   "metadata": {
    "ExecuteTime": {
     "end_time": "2024-11-06T20:45:04.196943Z",
     "start_time": "2024-11-06T20:45:04.186467Z"
    }
   },
   "cell_type": "code",
   "source": [
    "for entry in data:\n",
    "    print(entry)"
   ],
   "id": "b1bcfa774c6594d1",
   "outputs": [
    {
     "name": "stdout",
     "output_type": "stream",
     "text": [
      "{'text': 'The journey to Denali is a test of endurance and skill.', 'label': [[15, 6, 'MOUNT']]}\n",
      "{'text': 'Climbers often dream of reaching the summit of Kilimanjaro.', 'label': [[47, 11, 'MOUNT']]}\n",
      "{'text': 'The Alps are a mesmerizing mountain range stretching across Europe.', 'label': [[4, 4, 'MOUNT']]}\n",
      "{'text': 'In Nepal, Annapurna offers both beauty and danger to those who attempt to climb it.', 'label': [[10, 9, 'MOUNT']]}\n",
      "{'text': 'The Rockies are known for their stunning landscapes and diverse wildlife.', 'label': [[4, 7, 'MOUNT']]}\n",
      "{'text': 'K2, also called Mount Godwin-Austen, is one of the most treacherous peaks in the world.', 'label': [[0, 2, 'MOUNT'], [16, 19, 'MOUNT']]}\n",
      "{'text': 'Mount Fuji in Japan is famous for its symmetrical shape and cultural significance.', 'label': [[0, 10, 'MOUNT']]}\n",
      "{'text': 'Many photographers capture the beauty of the Andes in South America.', 'label': [[45, 5, 'MOUNT']]}\n",
      "{'text': 'At sunrise, the snow-capped peak of Mount Rainier glows with a pinkish hue.', 'label': [[36, 13, 'MOUNT']]}\n",
      "{'text': 'The hike to Everest or Elbrus is challenging but rewarding.', 'label': [[12, 7, 'MOUNT'], [23, 6, 'MOUNT']]}\n",
      "{'text': 'The view from the top of Mont Blanc is breathtaking.', 'label': [[25, 10, 'MOUNT']]}\n",
      "{'text': 'Patagonia offers incredible views of the Torres del Paine mountains.', 'label': [[41, 16, 'MOUNT']]}\n",
      "{'text': 'Mount McKinley, now called Denali, is the tallest peak in North America.', 'label': [[0, 14, 'MOUNT'], [27, 6, 'MOUNT']]}\n",
      "{'text': 'Trekkers love the trails around the Dolomites in northern Italy.', 'label': [[36, 9, 'MOUNT']]}\n",
      "{'text': 'Mount Ararat has a deep historical and religious significance in Armenia.', 'label': [[0, 12, 'MOUNT']]}\n",
      "{'text': 'The Pyrenees form a natural border between Spain and France.', 'label': [[4, 8, 'MOUNT']]}\n",
      "{'text': 'Mount Kosciuszko is the tallest mountain in Australia.', 'label': [[0, 16, 'MOUNT']]}\n",
      "{'text': 'The majestic Sierra Nevada range stretches across California and Nevada.', 'label': [[13, 13, 'MOUNT']]}\n",
      "{'text': 'Table Mountain offers a stunning view over Cape Town, South Africa.', 'label': [[0, 14, 'MOUNT']]}\n",
      "{'text': 'Mount Etna, an active volcano, frequently erupts on the island of Sicily.', 'label': [[0, 10, 'MOUNT']]}\n",
      "{'text': 'Zugspitze is the highest peak in Germany and a popular ski destination.', 'label': [[0, 9, 'MOUNT']]}\n",
      "{'text': 'Mount Olympus was once considered the home of the Greek gods.', 'label': [[0, 13, 'MOUNT']]}\n",
      "{'text': 'The Atlas Mountains spread across Morocco, Algeria, and Tunisia.', 'label': [[4, 15, 'MOUNT']]}\n",
      "{'text': 'Mauna Kea in Hawaii is famous for its observatories and stunning night skies.', 'label': [[0, 9, 'MOUNT']]}\n",
      "{'text': 'The Urals separate Europe and Asia, stretching across Russia.', 'label': [[4, 5, 'MOUNT']]}\n",
      "{'text': 'Kanchenjunga, the third-highest mountain in the world, lies on the border of Nepal and India.', 'label': [[0, 12, 'MOUNT']]}\n",
      "{'text': 'Ben Nevis is the highest mountain in Scotland and a popular hiking destination.', 'label': [[0, 9, 'MOUNT']]}\n",
      "{'text': 'The stunning views of Mount Shasta are a highlight of Northern California.', 'label': [[22, 12, 'MOUNT']]}\n",
      "{'text': 'Mount Vesuvius is known for the catastrophic eruption that buried Pompeii.', 'label': [[0, 14, 'MOUNT']]}\n",
      "{'text': 'The Drakensberg mountains offer some of the most scenic hikes in South Africa.', 'label': [[4, 11, 'MOUNT']]}\n",
      "{'text': 'Mount Cook is the highest mountain in New Zealand.', 'label': [[0, 10, 'MOUNT']]}\n",
      "{'text': 'Jebel Toubkal is the tallest peak in North Africa.', 'label': [[0, 13, 'MOUNT']]}\n",
      "{'text': 'The Carpathians stretch across Central and Eastern Europe.', 'label': [[4, 11, 'MOUNT']]}\n",
      "{'text': 'Mount St. Helens erupted dramatically in 1980, changing the landscape forever.', 'label': [[0, 16, 'MOUNT']]}\n",
      "{'text': 'The Appalachian Mountains offer stunning fall foliage every year.', 'label': [[4, 21, 'MOUNT']]}\n",
      "{'text': 'Mount Whitney is the tallest peak in the contiguous United States.', 'label': [[0, 13, 'MOUNT']]}\n",
      "{'text': \"Fans of Tolkien's work often imagine the Misty Mountains as they hike through New Zealand.\", 'label': [[41, 15, 'MOUNT']]}\n",
      "{'text': 'The rugged landscape of the Blue Ridge Mountains is known for its beauty.', 'label': [[28, 20, 'MOUNT']]}\n",
      "{'text': 'Snowdon is the highest mountain in Wales and a popular tourist attraction.', 'label': [[0, 7, 'MOUNT']]}\n",
      "{'text': 'Mount Erebus in Antarctica is one of the southernmost active volcanoes in the world.', 'label': [[0, 12, 'MOUNT']]}\n",
      "{'text': 'Mount Katahdin is the northern terminus of the Appalachian Trail.', 'label': [[0, 14, 'MOUNT']]}\n",
      "{'text': 'The beautiful Adirondack Mountains are a popular destination in New York state.', 'label': [[14, 20, 'MOUNT']]}\n",
      "{'text': 'Pico de Orizaba is the highest peak in Mexico.', 'label': [[0, 15, 'MOUNT']]}\n",
      "{'text': 'Fansipan is the tallest mountain in Vietnam and is also known as the \"Roof of Indochina.\"', 'label': [[0, 8, 'MOUNT']]}\n",
      "{'text': 'Mount Sinai in Egypt is known for its biblical significance.', 'label': [[0, 11, 'MOUNT']]}\n",
      "{'text': 'The Tian Shan mountains stretch across Central Asia.', 'label': [[4, 9, 'MOUNT']]}\n",
      "{'text': 'Mount Ngauruhoe in New Zealand served as Mount Doom in \"The Lord of the Rings\" films.', 'label': [[0, 15, 'MOUNT']]}\n",
      "{'text': 'The stunning peaks of the Pamirs are a draw for adventurers in Central Asia.', 'label': [[26, 6, 'MOUNT']]}\n",
      "{'text': \"Mount Kenya is Africa's second-highest peak after Kilimanjaro.\", 'label': [[0, 11, 'MOUNT']]}\n",
      "{'text': 'Puncak Jaya in Indonesia is the highest island peak in the world.', 'label': [[0, 11, 'MOUNT']]}\n",
      "{'text': 'The Vikos Gorge cuts through the Pindus mountains in Greece.', 'label': [[33, 6, 'MOUNT']]}\n",
      "{'text': 'Cerro Torre in Patagonia is famous for its sheer granite face.', 'label': [[0, 11, 'MOUNT']]}\n",
      "{'text': 'Mount Mitchell is the highest peak east of the Mississippi River in the U.S.', 'label': [[0, 14, 'MOUNT']]}\n",
      "{'text': 'The rugged landscape of Mount Kinabalu attracts climbers to Borneo.', 'label': [[24, 14, 'MOUNT']]}\n",
      "{'text': 'Vinicunca, or Rainbow Mountain, is a colorful mountain in Peru.', 'label': [[0, 9, 'MOUNT']]}\n",
      "{'text': 'Mount Robson is the highest peak in the Canadian Rockies.', 'label': [[0, 12, 'MOUNT']]}\n",
      "{'text': 'The Caucasus Mountains are home to some of Europe’s tallest peaks.', 'label': [[4, 18, 'MOUNT']]}\n",
      "{'text': 'Monte Rosa is the second-highest mountain in the Alps.', 'label': [[0, 10, 'MOUNT']]}\n",
      "{'text': 'Popocatépetl, an active volcano in Mexico, is frequently covered in smoke.', 'label': [[0, 12, 'MOUNT']]}\n",
      "{'text': 'The volcanic peaks of the Cascade Range are iconic in the Pacific Northwest.', 'label': [[26, 13, 'MOUNT']]}\n",
      "{'text': 'Mount Thielsen in Oregon is known for its unique shape.', 'label': [[0, 14, 'MOUNT']]}\n",
      "{'text': 'Mount Cook is an iconic destination for climbers in New Zealand.', 'label': [[0, 10, 'MOUNT']]}\n",
      "{'text': 'Hikers often enjoy the trails around the Green Mountains in Vermont.', 'label': [[41, 15, 'MOUNT']]}\n",
      "{'text': 'Gunnbjorn Fjeld is the highest mountain in Greenland.', 'label': [[0, 15, 'MOUNT']]}\n",
      "{'text': 'Mount Elgon is an extinct volcano on the border of Uganda and Kenya.', 'label': [[0, 11, 'MOUNT']]}\n",
      "{'text': 'The stunning cliffs of the Wicklow Mountains are a highlight of Ireland.', 'label': [[27, 17, 'MOUNT']]}\n",
      "{'text': 'Mount Aconcagua in Argentina is the highest peak in South America.', 'label': [[0, 15, 'MOUNT']]}\n",
      "{'text': 'Ras Dashen is the tallest mountain in Ethiopia.', 'label': [[0, 10, 'MOUNT']]}\n",
      "{'text': 'The Brooks Range stretches across northern Alaska.', 'label': [[4, 12, 'MOUNT']]}\n",
      "{'text': 'Mount Elbert is the tallest peak in the Colorado Rockies.', 'label': [[0, 12, 'MOUNT']]}\n",
      "{'text': 'Mount McLoughlin is one of the prominent volcanoes in Oregon.', 'label': [[0, 16, 'MOUNT']]}\n",
      "{'text': 'Mount Gunnison is known for its challenging trails and scenic views in Colorado.', 'label': [[0, 14, 'MOUNT']]}\n",
      "{'text': 'Mont Pelée is an active volcano on the Caribbean island of Martinique.', 'label': [[0, 10, 'MOUNT']]}\n",
      "{'text': 'Gangkhar Puensum in Bhutan remains unclimbed due to its sacred status.', 'label': [[0, 16, 'MOUNT']]}\n",
      "{'text': 'Mount Liushan is a notable peak in the Qinling mountain range in China.', 'label': [[0, 13, 'MOUNT']]}\n",
      "{'text': 'The Southern Alps in New Zealand are famous for their stunning glaciers.', 'label': [[4, 13, 'MOUNT']]}\n",
      "{'text': 'The Langtang range in Nepal is known for its beautiful trekking routes.', 'label': [[4, 8, 'MOUNT']]}\n",
      "{'text': 'The unique landscape of the Zagros Mountains stretches across Iran.', 'label': [[28, 16, 'MOUNT']]}\n",
      "{'text': 'Climbing Mount Hood offers breathtaking views of Oregon.', 'label': [[9, 10, 'MOUNT']]}\n",
      "{'text': 'The peaks of the Bitterroot Mountains create a dramatic border between Idaho and Montana.', 'label': [[17, 20, 'MOUNT']]}\n",
      "{'text': 'The Caucasus range is home to Mount Elbrus, Europe’s tallest peak.', 'label': [[4, 8, 'MOUNT'], [30, 12, 'MOUNT']]}\n",
      "{'text': 'The Jotunheimen mountains in Norway are known for their rugged terrain.', 'label': [[4, 11, 'MOUNT']]}\n",
      "{'text': 'Hikers enjoy exploring the wilderness of the Medicine Bow Mountains in Wyoming.', 'label': [[45, 22, 'MOUNT']]}\n",
      "{'text': 'The Ruby Mountains are a hidden gem in Nevada.', 'label': [[4, 14, 'MOUNT']]}\n",
      "{'text': 'Mount Fairweather straddles the border between Alaska and British Columbia.', 'label': [[0, 17, 'MOUNT']]}\n",
      "{'text': 'The San Gabriel Mountains are a popular hiking destination near Los Angeles.', 'label': [[4, 21, 'MOUNT']]}\n",
      "{'text': 'Mount Logan is the highest peak in Canada.', 'label': [[0, 11, 'MOUNT']]}\n",
      "{'text': 'Huascarán in Peru is the tallest mountain in the country.', 'label': [[0, 9, 'MOUNT']]}\n",
      "{'text': 'Mount Gede in Indonesia is surrounded by lush rainforests.', 'label': [[0, 10, 'MOUNT']]}\n",
      "{'text': 'The Franklin Mountains are a stunning natural feature in Texas.', 'label': [[4, 18, 'MOUNT']]}\n",
      "{'text': 'Mount Olympus in Cyprus offers incredible views of the Mediterranean.', 'label': [[0, 13, 'MOUNT']]}\n",
      "{'text': 'The Black Hills in South Dakota are sacred to many Native American tribes.', 'label': [[4, 11, 'MOUNT']]}\n",
      "{'text': 'Mount Graham in Arizona is home to an observatory used by astronomers worldwide.', 'label': [[0, 12, 'MOUNT']]}\n",
      "{'text': 'The Barisan Mountains stretch along the length of Sumatra.', 'label': [[4, 17, 'MOUNT']]}\n",
      "{'text': 'Shivling in India is known for its near-perfect pyramid shape.', 'label': [[0, 8, 'MOUNT']]}\n",
      "{'text': 'Rinjani is a popular trekking destination on the island of Lombok.', 'label': [[0, 7, 'MOUNT']]}\n",
      "{'text': 'The picturesque Dhauladhar range lies in Himachal Pradesh, India.', 'label': [[16, 10, 'MOUNT']]}\n",
      "{'text': 'Mount Ngāuruhoe is a popular destination for hikers in New Zealand.', 'label': [[0, 15, 'MOUNT']]}\n",
      "{'text': 'The Tatra Mountains form a natural border between Slovakia and Poland.', 'label': [[4, 15, 'MOUNT']]}\n",
      "{'text': 'Mount Giluwe is the second-highest mountain in Papua New Guinea.', 'label': [[0, 12, 'MOUNT']]}\n",
      "{'text': 'Mount Aspiring is known as the \"Matterhorn of the South.\"', 'label': [[0, 14, 'MOUNT']]}\n",
      "{'text': 'The Rwenzori Mountains are often shrouded in mist, earning them the nickname \"Mountains of the Moon.\"', 'label': [[4, 18, 'MOUNT']]}\n",
      "{'text': 'Climbing Mount Nebo in Utah offers spectacular views of the Wasatch Range.', 'label': [[9, 10, 'MOUNT']]}\n",
      "{'text': 'The remote Altai Mountains span Russia, China, Mongolia, and Kazakhstan.', 'label': [[11, 15, 'MOUNT']]}\n",
      "{'text': 'The Lefka Ori, or White Mountains, are a stunning feature on the island of Crete.', 'label': [[4, 9, 'MOUNT']]}\n",
      "{'text': 'Mount Semeru is the tallest mountain on the island of Java.', 'label': [[0, 12, 'MOUNT']]}\n",
      "{'text': 'The Pennine Alps span the border between Switzerland and Italy.', 'label': [[4, 12, 'MOUNT']]}\n",
      "{'text': 'Mount Hesperus in Alaska is known for its isolation and beauty.', 'label': [[0, 14, 'MOUNT']]}\n",
      "{'text': 'The Bighorn Mountains are a popular spot for fishing and hiking in Wyoming.', 'label': [[4, 17, 'MOUNT']]}\n",
      "{'text': 'Mount Liebig is located in the heart of Australia’s outback.', 'label': [[0, 12, 'MOUNT']]}\n",
      "{'text': 'The Flatirons are iconic rock formations near Boulder, Colorado.', 'label': [[4, 9, 'MOUNT']]}\n",
      "{'text': 'The rugged Sawatch Range includes some of Colorado’s tallest mountains.', 'label': [[11, 13, 'MOUNT']]}\n",
      "{'text': 'The Virunga Mountains are known for their gorilla populations in East Africa.', 'label': [[4, 17, 'MOUNT']]}\n",
      "{'text': 'The picturesque Simien Mountains are found in Ethiopia.', 'label': [[16, 16, 'MOUNT']]}\n",
      "{'text': 'Mount Bogong is the highest peak in Victoria, Australia.', 'label': [[0, 12, 'MOUNT']]}\n",
      "{'text': 'In Argentina, Cerro Bonete is a challenging climb for mountaineers.', 'label': [[14, 12, 'MOUNT']]}\n",
      "{'text': 'Mount Shishapangma is one of the 8,000-meter peaks in Tibet.', 'label': [[0, 18, 'MOUNT']]}\n",
      "{'text': 'The Cooke City range in Montana offers a rugged and scenic landscape.', 'label': [[4, 16, 'MOUNT']]}\n",
      "{'text': 'Mount Drummond is located on Quebec’s Gaspé Peninsula.', 'label': [[0, 14, 'MOUNT']]}\n",
      "{'text': 'Mount Guntur in Indonesia is popular for its volcanic crater views.', 'label': [[0, 12, 'MOUNT']]}\n",
      "{'text': 'Mount Pico in the Azores is the highest mountain in Portugal.', 'label': [[0, 10, 'MOUNT']]}\n",
      "{'text': 'The Tianshan mountains are famous for their lush valleys and high peaks.', 'label': [[4, 8, 'MOUNT']]}\n",
      "{'text': 'Trekking through the Kaçkar Mountains in Turkey offers spectacular views.', 'label': [[21, 16, 'MOUNT']]}\n",
      "{'text': 'The Adirondacks are a popular outdoor destination in New York.', 'label': [[4, 11, 'MOUNT']]}\n",
      "{'text': 'The Wicklow Mountains are a beautiful sight near Dublin, Ireland.', 'label': [[4, 17, 'MOUNT']]}\n",
      "{'text': 'Hikers love exploring the Cascade Range in the Pacific Northwest.', 'label': [[26, 13, 'MOUNT']]}\n",
      "{'text': 'Mount Tasman is a stunning peak in the Southern Alps of New Zealand.', 'label': [[0, 12, 'MOUNT']]}\n",
      "{'text': 'The famous Mount Erebus is located on Ross Island in Antarctica.', 'label': [[11, 12, 'MOUNT']]}\n",
      "{'text': 'The Sangre de Cristo mountains have incredible alpine trails in Colorado.', 'label': [[4, 16, 'MOUNT']]}\n",
      "{'text': 'The Bromo mountains in Indonesia are known for their volcanic activity.', 'label': [[4, 5, 'MOUNT']]}\n",
      "{'text': 'Cerro Paranal in Chile is home to a major astronomical observatory.', 'label': [[0, 13, 'MOUNT']]}\n",
      "{'text': 'The Hida Mountains, also known as the Japanese Alps, attract thousands of visitors.', 'label': [[4, 14, 'MOUNT']]}\n",
      "{'text': 'Montes Apalaches, or the Appalachians, span across eastern North America.', 'label': [[0, 16, 'MOUNT'], [25, 12, 'MOUNT']]}\n",
      "{'text': 'The imposing Mount Adams stands tall in Washington State.', 'label': [[13, 11, 'MOUNT']]}\n",
      "{'text': 'Mount Ngauruhoe on the Tongariro Alpine Crossing is awe-inspiring.', 'label': [[0, 15, 'MOUNT']]}\n",
      "{'text': 'The Organ Mountains in New Mexico are noted for their distinctive spires.', 'label': [[4, 15, 'MOUNT']]}\n",
      "{'text': \"Mount Kinpu is one of Japan's 100 famous mountains.\", 'label': [[0, 11, 'MOUNT']]}\n",
      "{'text': 'The rugged terrain of the North Cascades is a paradise for backpackers.', 'label': [[26, 14, 'MOUNT']]}\n",
      "{'text': 'Climbing Mount Mulu in Malaysia is a unique adventure through rainforests.', 'label': [[9, 10, 'MOUNT']]}\n",
      "{'text': 'The San Juan Mountains offer a mix of high peaks and colorful towns.', 'label': [[4, 18, 'MOUNT']]}\n",
      "{'text': 'Hikers often scale Mount Haleakala to witness its volcanic landscape.', 'label': [[19, 15, 'MOUNT']]}\n",
      "{'text': \"Mount Erebus has one of the world's few lava lakes, constantly glowing.\", 'label': [[0, 12, 'MOUNT']]}\n",
      "{'text': 'The Black Forest mountains in Germany are steeped in legend and mystery.', 'label': [[4, 12, 'MOUNT']]}\n",
      "{'text': 'The Brooks Range stretches across the northernmost part of Alaska.', 'label': [[4, 12, 'MOUNT']]}\n",
      "{'text': 'Mount Ida in Crete is associated with ancient Greek myths.', 'label': [[0, 9, 'MOUNT']]}\n",
      "{'text': 'Climbing Mount Monadnock in New Hampshire is a popular weekend activity.', 'label': [[9, 15, 'MOUNT']]}\n",
      "{'text': 'The Klondike Range in Alaska played a major role in the gold rush.', 'label': [[4, 14, 'MOUNT']]}\n",
      "{'text': 'The coastal Santa Ynez Mountains offer stunning ocean views.', 'label': [[12, 20, 'MOUNT']]}\n",
      "{'text': 'Mount Taranaki in New Zealand is famous for its perfect cone shape.', 'label': [[0, 14, 'MOUNT']]}\n",
      "{'text': 'The Caucasus region includes the towering Mount Kazbek.', 'label': [[4, 8, 'MOUNT'], [42, 12, 'MOUNT']]}\n",
      "{'text': 'The Parnassus mountains were considered sacred in ancient Greece.', 'label': [[4, 9, 'MOUNT']]}\n",
      "{'text': \"Mount Kosciusko is Australia's highest peak and a popular destination.\", 'label': [[0, 15, 'MOUNT']]}\n",
      "{'text': 'The Sierra Madre Mountains stretch from the southwestern U.S. into Mexico.', 'label': [[4, 22, 'MOUNT']]}\n",
      "{'text': 'Hikers love the lush forests of the Dandenong Ranges in Victoria, Australia.', 'label': [[36, 16, 'MOUNT']]}\n",
      "{'text': 'The Caucasus includes the towering Mount Ushba, known for its sharp peaks.', 'label': [[4, 8, 'MOUNT'], [35, 11, 'MOUNT']]}\n",
      "{'text': 'Mount Olympus in Washington State is a major part of the Olympic National Park.', 'label': [[0, 13, 'MOUNT']]}\n",
      "{'text': 'The rugged terrain of the Absaroka Range spans Wyoming and Montana.', 'label': [[26, 14, 'MOUNT']]}\n",
      "{'text': \"Mount Lamlam on Guam is said to be the world's tallest mountain from base to peak.\", 'label': [[0, 12, 'MOUNT']]}\n",
      "{'text': 'The Drakensberg is a stunning mountain range in South Africa.', 'label': [[4, 11, 'MOUNT']]}\n",
      "{'text': 'Mount Hua in China is known for its steep and dangerous trails.', 'label': [[0, 9, 'MOUNT']]}\n",
      "{'text': 'The Hoggar Mountains are located in the Sahara Desert in Algeria.', 'label': [[4, 16, 'MOUNT']]}\n",
      "{'text': 'The Hindu Kush mountains stretch through Afghanistan and Pakistan.', 'label': [[4, 10, 'MOUNT']]}\n",
      "{'text': 'The mountains of Tenerife are a unique sight on this volcanic island.', 'label': [[17, 8, 'MOUNT']]}\n",
      "{'text': 'Mount Ijen in Indonesia is famous for its blue sulfur flames.', 'label': [[0, 10, 'MOUNT']]}\n",
      "{'text': 'The Elburz mountains are located along the northern part of Iran.', 'label': []}\n",
      "{'text': 'Mont Ventoux in France is a classic climb for cyclists.', 'label': [[0, 12, 'MOUNT']]}\n",
      "{'text': 'The isolated Dinaric Alps stretch along the Adriatic Sea.', 'label': [[13, 12, 'MOUNT']]}\n",
      "{'text': 'The Andringitra Mountains in Madagascar are part of a national park.', 'label': [[4, 21, 'MOUNT']]}\n",
      "{'text': 'The lofty peaks of the Alborz mountains loom over Tehran.', 'label': [[23, 6, 'MOUNT']]}\n",
      "{'text': 'The serene beaches of Bora Bora attract visitors from all over the world.', 'label': []}\n",
      "{'text': 'The sprawling city of Los Angeles sits close to the San Gabriel Mountains.', 'label': [[52, 21, 'MOUNT']]}\n",
      "{'text': 'Visitors to the city of Vancouver can enjoy views of the nearby Coast Mountains.', 'label': [[64, 15, 'MOUNT']]}\n",
      "{'text': 'The scenic town of Banff in Canada is a gateway to the Rockies.', 'label': [[55, 7, 'MOUNT']]}\n",
      "{'text': 'The ancient city of Petra in Jordan is one of the new Seven Wonders of the World.', 'label': []}\n",
      "{'text': 'Barcelona is known for its art, architecture, and vibrant culture.', 'label': []}\n",
      "{'text': 'Rome is home to some of the world’s most iconic ancient ruins.', 'label': []}\n",
      "{'text': 'You can see the Blue Ridge Mountains while driving through the state of Virginia.', 'label': [[16, 20, 'MOUNT']]}\n",
      "{'text': 'The island of Santorini is famous for its whitewashed buildings and sunset views.', 'label': []}\n",
      "{'text': 'The Andes Mountains run along the western edge of South America.', 'label': [[4, 15, 'MOUNT']]}\n",
      "{'text': 'Tokyo is a bustling metropolis with a mix of modern and traditional culture.', 'label': []}\n",
      "{'text': 'Hiking in the Dolomites offers spectacular views of Italian countryside.', 'label': [[14, 9, 'MOUNT']]}\n",
      "{'text': 'Maui’s beautiful beaches attract surfers and beachgoers alike.', 'label': []}\n",
      "{'text': 'The ancient pyramids of Giza stand as a testament to Egypt’s rich history.', 'label': []}\n",
      "{'text': 'The island of Phuket in Thailand is known for its stunning beaches.', 'label': []}\n",
      "{'text': 'Zurich offers visitors a beautiful view of the Swiss Alps.', 'label': [[47, 10, 'MOUNT']]}\n",
      "{'text': 'Sydney is known for its iconic Opera House and Harbor Bridge.', 'label': []}\n",
      "{'text': 'Trekking through the Carpathians takes you through some of Eastern Europe’s wildest areas.', 'label': [[21, 11, 'MOUNT']]}\n",
      "{'text': 'The Sahara Desert covers much of North Africa.', 'label': []}\n",
      "{'text': 'Tourists flock to the Great Wall of China to marvel at its scale.', 'label': []}\n",
      "{'text': 'The Appalachian Trail stretches from Georgia to Maine.', 'label': [[4, 17, 'MOUNT']]}\n",
      "{'text': 'The city of Kyoto is known for its temples and peaceful gardens.', 'label': []}\n",
      "{'text': 'The towering Rocky Mountains offer skiing, hiking, and breathtaking scenery.', 'label': [[13, 15, 'MOUNT']]}\n",
      "{'text': 'The city of Istanbul spans two continents: Europe and Asia.', 'label': []}\n",
      "{'text': 'Paris is known for the Eiffel Tower and world-class museums.', 'label': []}\n",
      "{'text': 'Explorers journey to the Amazon rainforest to discover its biodiversity.', 'label': []}\n",
      "{'text': 'Travelers to New Zealand are often drawn to Fiordland National Park.', 'label': []}\n",
      "{'text': 'The bustling streets of New York City are famous around the world.', 'label': []}\n",
      "{'text': 'The quaint villages of the Black Forest in Germany attract many tourists.', 'label': [[27, 12, 'MOUNT']]}\n",
      "{'text': 'The Rhine River flows through several countries in Europe.', 'label': []}\n",
      "{'text': 'Lake Tahoe sits at the border between California and Nevada.', 'label': []}\n",
      "{'text': 'In Switzerland, Lake Geneva is surrounded by picturesque scenery and mountains.', 'label': [[16, 11, 'MOUNT']]}\n",
      "{'text': 'The cliffs of Moher in Ireland offer breathtaking views of the Atlantic.', 'label': []}\n",
      "{'text': 'The ancient Inca site of Machu Picchu sits high in the Andes.', 'label': [[55, 5, 'MOUNT']]}\n",
      "{'text': 'The historic city of Florence is known for its art and architecture.', 'label': []}\n",
      "{'text': 'The unique landscape of Iceland features volcanoes, geysers, and waterfalls.', 'label': []}\n",
      "{'text': 'The bustling city of Dubai is famous for its skyscrapers and luxury shopping.', 'label': []}\n",
      "{'text': 'The Douro Valley in Portugal is known for its wine production.', 'label': []}\n",
      "{'text': 'The Yucatan Peninsula in Mexico is dotted with ancient Mayan ruins.', 'label': []}\n",
      "{'text': 'The Alps surround the charming city of Innsbruck in Austria.', 'label': [[4, 4, 'MOUNT']]}\n",
      "{'text': 'The calm waters of the Maldives are perfect for snorkeling.', 'label': []}\n",
      "{'text': 'The island of Corsica is home to beautiful beaches and rugged mountains.', 'label': [[14, 7, 'MOUNT']]}\n",
      "{'text': 'The Loire Valley in France is known for its vineyards and châteaux.', 'label': []}\n",
      "{'text': 'Hikers in the Pyrenees can enjoy scenic trails along the France-Spain border.', 'label': [[14, 8, 'MOUNT']]}\n",
      "{'text': 'Lisbon’s hills offer great views of the city and the Atlantic Ocean.', 'label': []}\n",
      "{'text': 'The temples of Angkor Wat in Cambodia are a marvel of ancient architecture.', 'label': []}\n",
      "{'text': 'Nairobi is known for its proximity to wildlife reserves.', 'label': []}\n",
      "{'text': 'Lake Bled in Slovenia is famous for its scenic island church.', 'label': []}\n",
      "{'text': 'Yellowstone National Park is known for its geothermal features and wildlife.', 'label': []}\n",
      "{'text': \"Moscow is home to the iconic Red Square and Saint Basil's Cathedral.\", 'label': []}\n",
      "{'text': 'The city of Jaipur in India is known as the \"Pink City.\"', 'label': []}\n",
      "{'text': 'The Scottish Highlands are known for their rugged landscapes.', 'label': [[4, 18, 'MOUNT']]}\n",
      "{'text': 'The Great Barrier Reef off Australia is teeming with marine life.', 'label': []}\n",
      "{'text': 'Lake Como in Italy is known for its beautiful villas and mountain views.', 'label': [[0, 9, 'MOUNT']]}\n",
      "{'text': 'Explorers find vast sand dunes in Namibia’s Namib Desert.', 'label': []}\n",
      "{'text': 'Jerusalem is a city sacred to multiple religions.', 'label': []}\n",
      "{'text': 'Banff National Park is surrounded by the towering peaks of the Canadian Rockies.', 'label': [[63, 16, 'MOUNT']]}\n",
      "{'text': 'Travelers to Croatia often visit the beautiful Adriatic Sea coastline.', 'label': []}\n",
      "{'text': 'Vienna is famous for its classical music heritage.', 'label': []}\n",
      "{'text': 'Patagonia offers some of the world’s most dramatic mountain scenery.', 'label': [[0, 9, 'MOUNT']]}\n",
      "{'text': 'Reykjavik is known for its hot springs and unique volcanic landscape.', 'label': []}\n",
      "{'text': 'Dubai’s Palm Jumeirah is an artificial archipelago that attracts tourists.', 'label': []}\n",
      "{'text': 'Climbing Mount Kilimanjaro is a popular challenge for adventurers.', 'label': [[9, 17, 'MOUNT']]}\n",
      "{'text': 'The historical city of Luxor in Egypt is filled with ancient temples.', 'label': []}\n",
      "{'text': 'The Maldives is a dream destination for beach lovers.', 'label': []}\n",
      "{'text': 'The Canadian Shield covers a large part of northeastern Canada.', 'label': []}\n",
      "{'text': 'The fjords of Norway are a sight to behold, with dramatic cliffs and waterfalls.', 'label': []}\n",
      "{'text': 'The Kimberley region in Australia is known for its remote wilderness.', 'label': []}\n",
      "{'text': 'Madrid, the capital of Spain, is famous for its art museums.', 'label': []}\n",
      "{'text': 'Tourists visit the Serengeti to witness Africa’s stunning wildlife.', 'label': []}\n",
      "{'text': 'Oslo is known for its connection to the sea and Viking history.', 'label': []}\n",
      "{'text': 'The lush landscapes of the Azores in Portugal are volcanic in origin.', 'label': []}\n",
      "{'text': 'The Chugach Mountains in Alaska provide excellent skiing terrain.', 'label': [[4, 17, 'MOUNT']]}\n",
      "{'text': 'The Rhine Valley in Germany is lined with castles and vineyards.', 'label': []}\n",
      "{'text': 'Venice is a city built on water, famous for its canals and gondolas.', 'label': []}\n",
      "{'text': 'The snowy peaks of the Southern Alps attract skiers to New Zealand.', 'label': [[23, 13, 'MOUNT']]}\n",
      "{'text': 'Prague is known for its beautiful old town and historic architecture.', 'label': []}\n",
      "{'text': 'The cliffs and beaches of Cornwall are a stunning part of the English coastline.', 'label': []}\n",
      "{'text': 'The island of Malta has a rich history and beautiful Mediterranean scenery.', 'label': []}\n",
      "{'text': 'The Sonoran Desert is home to unique plant and animal species.', 'label': []}\n",
      "{'text': 'Hiking in the Ural Mountains provides breathtaking views.', 'label': [[14, 14, 'MOUNT']]}\n",
      "{'text': 'Budapest is famous for its thermal baths and beautiful Danube river.', 'label': []}\n",
      "{'text': 'Tuscany is renowned for its rolling hills, vineyards, and art.', 'label': []}\n",
      "{'text': 'The Shotover River in New Zealand is famous for its jet boat tours.', 'label': []}\n",
      "{'text': 'The Zambezi River flows through several African countries and includes Victoria Falls.', 'label': []}\n",
      "{'text': 'The Dolomites in Italy are a popular destination for climbers and hikers.', 'label': [[4, 9, 'MOUNT']]}\n",
      "{'text': 'The Catskills in New York are known for their scenic beauty and outdoor activities.', 'label': [[4, 9, 'MOUNT']]}\n",
      "{'text': 'Athens, the cradle of Western civilization, is home to the Parthenon.', 'label': []}\n",
      "{'text': 'The island of Kauai in Hawaii is known as the \"Garden Isle.\"', 'label': []}\n",
      "{'text': 'The Atacama Desert in Chile is one of the driest places on Earth.', 'label': []}\n",
      "{'text': 'The scenic valley of Napa in California is famous for its wineries.', 'label': []}\n",
      "{'text': 'Mount Rainier is a prominent peak near Seattle.', 'label': [[0, 13, 'MOUNT']]}\n",
      "{'text': 'Rome is a city of history, art, and stunning architecture.', 'label': []}\n",
      "{'text': 'The Negev Desert in Israel has unique geological formations.', 'label': []}\n",
      "{'text': 'The romantic city of Verona in Italy is known for Shakespeare’s \"Romeo and Juliet.\"', 'label': []}\n",
      "{'text': 'The Galápagos Islands are home to unique wildlife found nowhere else.', 'label': []}\n",
      "{'text': 'Cusco was once the capital of the Inca Empire in Peru.', 'label': []}\n",
      "{'text': 'Zermatt is a famous ski resort town near the Matterhorn.', 'label': [[45, 10, 'MOUNT']]}\n",
      "{'text': 'Cape Town is known for Table Mountain and its stunning coastline.', 'label': [[23, 14, 'MOUNT']]}\n",
      "{'text': 'The Aral Sea between Kazakhstan and Uzbekistan has shrunk significantly.', 'label': []}\n",
      "{'text': 'The bustling city of Bangkok is a gateway to Thailand’s temples and beaches.', 'label': []}\n",
      "{'text': 'The Florida Keys are a string of tropical islands off the southern coast of Florida.', 'label': []}\n",
      "{'text': 'The Acropolis in Athens is a symbol of ancient Greek culture.', 'label': []}\n",
      "{'text': 'The island of Bali is famous for its beaches and vibrant culture.', 'label': []}\n",
      "{'text': 'Mount Etna in Sicily is one of the most active volcanoes in the world.', 'label': [[0, 10, 'MOUNT']]}\n",
      "{'text': 'The city of Quebec has a distinctly European charm.', 'label': []}\n",
      "{'text': 'The Taklamakan Desert is one of the largest sandy deserts in the world.', 'label': []}\n",
      "{'text': 'The Grand Canyon in Arizona is one of the Seven Natural Wonders of the World.', 'label': []}\n",
      "{'text': 'Seoul, the capital of South Korea, is known for its technology and history.', 'label': []}\n",
      "{'text': 'Mount Fuji in Japan is a symbol of beauty and tranquility.', 'label': [[0, 10, 'MOUNT']]}\n",
      "{'text': 'The vibrant city of Rio de Janeiro is famous for its Carnival and beaches.', 'label': []}\n",
      "{'text': 'Lhasa in Tibet is home to the Potala Palace, a UNESCO World Heritage Site.', 'label': []}\n",
      "{'text': 'The Atacama Desert in Chile has surreal landscapes and salt flats.', 'label': []}\n",
      "{'text': 'Berlin is known for its rich history and cultural landmarks.', 'label': []}\n",
      "{'text': 'Sapporo is famous for its annual snow festival and winter activities.', 'label': []}\n",
      "{'text': 'The limestone cliffs of Ha Long Bay are a UNESCO World Heritage Site in Vietnam.', 'label': []}\n",
      "{'text': 'Brussels is known for its chocolate, waffles, and beautiful architecture.', 'label': []}\n",
      "{'text': 'Hiking in the Pennine Alps offers stunning views on the Swiss-Italian border.', 'label': [[14, 12, 'MOUNT']]}\n",
      "{'text': 'The Caribbean Sea is a popular destination for its warm waters and beaches.', 'label': []}\n",
      "{'text': 'The historic city of Heidelberg in Germany sits on the River Neckar.', 'label': []}\n",
      "{'text': 'Santorini’s volcanic landscape offers stunning views over the Aegean Sea.', 'label': []}\n",
      "{'text': 'Mount Aconcagua is the highest peak outside of Asia.', 'label': [[0, 15, 'MOUNT']]}\n",
      "{'text': 'The rugged terrain of Iceland includes glaciers, volcanoes, and waterfalls.', 'label': []}\n",
      "{'text': 'Certainly! Here are 100 sentences featuring various proper nouns that do not represent places.', 'label': []}\n",
      "{'text': 'Michael finished reading *The Catcher in the Rye* over the weekend.', 'label': []}\n",
      "{'text': \"Tesla's electric vehicles have become popular worldwide.\", 'label': []}\n",
      "{'text': 'The launch of the new iPhone was anticipated by many fans.', 'label': []}\n",
      "{'text': \"Albert Einstein's theories transformed modern physics.\", 'label': []}\n",
      "{'text': 'The character Sherlock Holmes was created by Sir Arthur Conan Doyle.', 'label': []}\n",
      "{'text': 'Leonardo da Vinci painted the famous *Mona Lisa*.', 'label': []}\n",
      "{'text': 'The Nobel Prize is awarded for achievements in various fields.', 'label': []}\n",
      "{'text': \"Marvel's superheroes have captivated audiences globally.\", 'label': []}\n",
      "{'text': 'Emma Watson starred in the *Harry Potter* film series.', 'label': []}\n",
      "{'text': 'Microsoft is one of the largest technology companies.', 'label': []}\n",
      "{'text': 'William Shakespeare wrote *Romeo and Juliet*.', 'label': []}\n",
      "{'text': 'Adele’s voice has touched the hearts of millions.', 'label': []}\n",
      "{'text': 'The *Star Wars* franchise has a massive fan base.', 'label': []}\n",
      "{'text': 'Coca-Cola is recognized in almost every country.', 'label': []}\n",
      "{'text': 'J.K. Rowling is the author of the *Harry Potter* series.', 'label': []}\n",
      "{'text': 'Ferrari is known for producing luxury sports cars.', 'label': []}\n",
      "{'text': 'Jane Austen’s *Pride and Prejudice* is a classic novel.', 'label': []}\n",
      "{'text': 'The Olympic Games bring together athletes from around the world.', 'label': []}\n",
      "{'text': 'Tom Hanks has acted in numerous acclaimed movies.', 'label': []}\n",
      "{'text': 'The Mona Lisa is displayed at the Louvre.', 'label': []}\n",
      "{'text': 'Nike’s “Just Do It” slogan is famous worldwide.', 'label': []}\n",
      "{'text': 'Mark Twain wrote *The Adventures of Tom Sawyer*.', 'label': []}\n",
      "{'text': 'Steven Spielberg directed *Jurassic Park*.', 'label': []}\n",
      "{'text': 'Amazon has become a giant in online retail.', 'label': []}\n",
      "{'text': 'The *Game of Thrones* series was hugely popular.', 'label': []}\n",
      "{'text': 'Taylor Swift has a dedicated fan base around the world.', 'label': []}\n",
      "{'text': 'The Hubble Space Telescope has captured incredible images of space.', 'label': []}\n",
      "{'text': 'The Grammy Awards celebrate achievements in music.', 'label': []}\n",
      "{'text': 'Agatha Christie’s mystery novels are beloved by many.', 'label': []}\n",
      "{'text': \"Apple's MacBook is a popular laptop choice.\", 'label': []}\n",
      "{'text': 'Vincent van Gogh painted *Starry Night*.', 'label': []}\n",
      "{'text': 'Walt Disney created beloved animated characters.', 'label': []}\n",
      "{'text': 'The Golden Gate Bridge is an iconic structure in the U.S.', 'label': []}\n",
      "{'text': 'George Orwell’s *1984* is a dystopian novel.', 'label': []}\n",
      "{'text': 'The *Beatles* are one of the best-selling music artists in history.', 'label': []}\n",
      "{'text': 'Meryl Streep is known for her versatile acting skills.', 'label': []}\n",
      "{'text': 'Boeing is a major aircraft manufacturer.', 'label': []}\n",
      "{'text': 'The *Lord of the Rings* trilogy was written by J.R.R. Tolkien.', 'label': []}\n",
      "{'text': \"McDonald's is a well-known fast-food chain.\", 'label': []}\n",
      "{'text': 'Pablo Picasso’s *Guernica* is a famous painting.', 'label': []}\n",
      "{'text': 'The Nobel Peace Prize has been awarded to various influential figures.', 'label': []}\n",
      "{'text': 'Cristiano Ronaldo is one of the greatest footballers.', 'label': []}\n",
      "{'text': 'The Louvre Museum houses many iconic works of art.', 'label': []}\n",
      "{'text': 'Facebook rebranded itself as Meta.', 'label': []}\n",
      "{'text': 'Oprah Winfrey is a well-known television host and philanthropist.', 'label': []}\n",
      "{'text': 'Stan Lee co-created many Marvel superheroes.', 'label': []}\n",
      "{'text': '*The Great Gatsby* was written by F. Scott Fitzgerald.', 'label': []}\n",
      "{'text': 'BMW is known for its luxury vehicles.', 'label': []}\n",
      "{'text': '*Friends* remains one of the most popular TV shows of all time.', 'label': []}\n",
      "{'text': 'Harper Lee wrote *To Kill a Mockingbird*.', 'label': []}\n",
      "{'text': 'Louis Vuitton is a famous luxury brand.', 'label': []}\n",
      "{'text': 'Isaac Newton’s discoveries changed the field of physics.', 'label': []}\n",
      "{'text': 'Elon Musk leads several innovative companies.', 'label': []}\n",
      "{'text': 'The *Rolling Stones* have had a long and successful music career.', 'label': []}\n",
      "{'text': 'Andy Warhol’s pop art made a lasting impact on modern art.', 'label': []}\n",
      "{'text': 'Siri is Apple’s virtual assistant.', 'label': []}\n",
      "{'text': 'C.S. Lewis wrote *The Chronicles of Narnia*.', 'label': []}\n",
      "{'text': 'Bill Gates co-founded Microsoft.', 'label': []}\n",
      "{'text': 'Gucci is a luxury brand known worldwide.', 'label': []}\n",
      "{'text': 'The Academy Awards, or Oscars, honor achievements in film.', 'label': []}\n",
      "{'text': 'Barack Obama served as the 44th president of the United States.', 'label': []}\n",
      "{'text': 'Rolex watches are known for their quality and luxury.', 'label': []}\n",
      "{'text': 'Mozart composed many classical masterpieces.', 'label': []}\n",
      "{'text': 'The Michelin Guide awards stars to top restaurants.', 'label': []}\n",
      "{'text': 'Harry Houdini was a famous escape artist and magician.', 'label': []}\n",
      "{'text': 'Elvis Presley is known as the \"King of Rock and Roll.\"', 'label': []}\n",
      "{'text': 'The *New York Times* is a widely respected newspaper.', 'label': []}\n",
      "{'text': 'Darth Vader is an iconic villain from *Star Wars*.', 'label': []}\n",
      "{'text': 'Oprah’s Book Club has recommended many bestsellers.', 'label': []}\n",
      "{'text': 'The Kindle is Amazon’s popular e-reader device.', 'label': []}\n",
      "{'text': 'Leonardo DiCaprio starred in *Titanic*.', 'label': []}\n",
      "{'text': 'The FIFA World Cup is watched by millions around the globe.', 'label': []}\n",
      "{'text': 'Stanford University is a prestigious institution.', 'label': []}\n",
      "{'text': 'The Grammy-winning singer Beyoncé is known worldwide.', 'label': []}\n",
      "{'text': 'HBO produces many critically acclaimed TV shows.', 'label': []}\n",
      "{'text': 'James Bond is a character created by Ian Fleming.', 'label': []}\n",
      "{'text': 'Kleenex is a popular brand of facial tissues.', 'label': []}\n",
      "{'text': 'The Pulitzer Prize is awarded for achievements in journalism.', 'label': []}\n",
      "{'text': 'Marie Curie was a pioneering scientist in radioactivity research.', 'label': []}\n",
      "{'text': 'Frida Kahlo’s paintings are known for their vivid colors and emotional depth.', 'label': []}\n",
      "{'text': 'LinkedIn is a popular professional networking platform.', 'label': []}\n",
      "{'text': 'Darth Vader is a character in *Star Wars*.', 'label': []}\n",
      "{'text': '*The Simpsons* is one of the longest-running animated shows.', 'label': []}\n",
      "{'text': 'Mark Zuckerberg founded Facebook.', 'label': []}\n",
      "{'text': 'Batman, a DC Comics character, has had numerous adaptations.', 'label': []}\n",
      "{'text': 'Google’s search engine is used by billions daily.', 'label': []}\n",
      "{'text': 'Homer is the author of the ancient epic *The Iliad*.', 'label': []}\n",
      "{'text': 'The BMW 7 Series is a luxury vehicle.', 'label': []}\n",
      "{'text': 'Ellen DeGeneres is a popular television host.', 'label': []}\n",
      "{'text': 'Beethoven’s *Fifth Symphony* is widely recognized.', 'label': []}\n",
      "{'text': 'LeBron James is considered one of the best basketball players.', 'label': []}\n",
      "{'text': 'Tesla’s Model S is a popular electric car.', 'label': []}\n",
      "{'text': 'Samsung produces many types of consumer electronics.', 'label': []}\n",
      "{'text': 'Marvel’s *Avengers* films are box office hits.', 'label': []}\n",
      "{'text': 'Jimi Hendrix is regarded as an iconic guitarist.', 'label': []}\n",
      "{'text': 'Einstein’s theory of relativity is fundamental to physics.', 'label': []}\n",
      "{'text': 'Stephen King is known for his horror novels.', 'label': []}\n",
      "{'text': 'Adobe Photoshop is a widely used image editing software.', 'label': []}\n",
      "{'text': '*The Hunger Games* was written by Suzanne Collins.', 'label': []}\n",
      "{'text': 'The Everest brand of water bottles is known for its durability.', 'label': []}\n",
      "{'text': 'Mont Blanc pens are a popular choice for professional gifts.', 'label': []}\n",
      "{'text': 'I ordered a Fuji camera for my photography class.', 'label': []}\n",
      "{'text': 'The company named their strongest coffee blend Kilimanjaro.', 'label': []}\n",
      "{'text': 'His Elbrus jacket kept him warm during the winter storm.', 'label': []}\n",
      "{'text': 'They released a new Rocky Mountain perfume with a refreshing scent.', 'label': []}\n",
      "{'text': 'The Himalaya herbal products have been highly recommended by dermatologists.', 'label': []}\n",
      "{'text': 'K2 Sports produces some of the best skis in the market.', 'label': []}\n",
      "{'text': 'The Everest edition of the smartphone is their most advanced model yet.', 'label': []}\n",
      "{'text': 'That Olympus camera is perfect for wildlife photography.', 'label': []}\n",
      "{'text': 'They launched the new Fuji series of instant cameras last week.', 'label': []}\n",
      "{'text': 'The Mont Blanc fragrance is popular among professionals.', 'label': []}\n",
      "{'text': 'I’m considering the Denali jacket for my next winter trip.', 'label': []}\n",
      "{'text': 'Rainier beer has a long-standing reputation in the northwest.', 'label': []}\n",
      "{'text': 'The Shasta line of sodas was discontinued in some areas.', 'label': []}\n",
      "{'text': 'Their car had Aspen leather seats that felt luxurious.', 'label': []}\n",
      "{'text': 'The Kilimanjaro watch collection was on sale last weekend.', 'label': []}\n",
      "{'text': 'She’s a big fan of the Elbrus smartphone series.', 'label': []}\n",
      "{'text': 'They named their start-up McKinley Technologies.', 'label': []}\n",
      "{'text': 'I bought a Hood brand blanket for the chilly nights.', 'label': []}\n",
      "{'text': 'The Atlas notebook is part of their premium product line.', 'label': []}\n",
      "{'text': 'We ordered a pizza with extra Himalaya cheese.', 'label': []}\n",
      "{'text': 'They released a new shade called Rocky for their lipstick line.', 'label': []}\n",
      "{'text': 'Her handbag from the Whitney collection is quite chic.', 'label': []}\n",
      "{'text': 'The Sierra SUV has excellent fuel efficiency.', 'label': []}\n",
      "{'text': 'His boat was named Adirondack after a memorable trip.', 'label': []}\n",
      "{'text': 'We stayed at the Olympus Hotel for our vacation.', 'label': []}\n",
      "{'text': 'That Cascade detergent cleans remarkably well.', 'label': []}\n",
      "{'text': 'The Fuji apples were on sale at the grocery store.', 'label': []}\n",
      "{'text': 'The Rockies energy drink was a hit with athletes.', 'label': []}\n",
      "{'text': 'My watch from the Rainier collection has a sleek design.', 'label': []}\n",
      "{'text': 'I’m going to the Mont Blanc workshop on luxury goods.', 'label': []}\n",
      "{'text': 'Their wine was named Kilimanjaro to evoke an adventurous feel.', 'label': []}\n",
      "{'text': 'The Atlas coffee shop is known for its cozy vibe.', 'label': []}\n",
      "{'text': 'The McKinley backpack is ideal for long trips.', 'label': []}\n",
      "{'text': 'He got the limited edition Shasta vinyl record.', 'label': []}\n",
      "{'text': 'They named their robotics project Whitney.', 'label': []}\n",
      "{'text': 'The Olympus lens is one of the best for portrait photography.', 'label': []}\n",
      "{'text': 'I tried a new fragrance called Elbrus.', 'label': []}\n",
      "{'text': 'The Cascade shampoo left my hair feeling soft.', 'label': []}\n",
      "{'text': 'The Rocky sneakers are incredibly comfortable.', 'label': []}\n",
      "{'text': 'Their product line called Everest is very durable.', 'label': []}\n",
      "{'text': 'My phone case from the Denali series has great protection.', 'label': []}\n",
      "{'text': 'We attended a lecture by a professor named Rainier.', 'label': []}\n",
      "{'text': 'Their album titled Fuji is full of relaxing tunes.', 'label': []}\n",
      "{'text': 'The Mont Blanc pen was a thoughtful gift.', 'label': []}\n",
      "{'text': 'She wore a Sierra ring that sparkled in the sunlight.', 'label': []}\n",
      "{'text': 'Their music group is named Adirondack.', 'label': []}\n",
      "{'text': 'They released an app called Olympus for photographers.', 'label': []}\n",
      "{'text': 'He’s working on a screenplay for Rockies Studios.', 'label': []}\n",
      "{'text': 'I got the Whitney earrings as a gift.', 'label': []}\n",
      "{'text': 'Their Atlas brand luggage is designed for durability.', 'label': []}\n",
      "{'text': 'The Kilimanjaro fitness program promises great results.', 'label': []}\n",
      "{'text': 'We’re trying the new Denali barbecue sauce tonight.', 'label': []}\n",
      "{'text': 'They created a clothing line called Aspen.', 'label': []}\n",
      "{'text': 'My glasses are from the Mont Blanc collection.', 'label': []}\n",
      "{'text': 'The Fuji printers are known for high-quality prints.', 'label': []}\n",
      "{'text': 'I ordered a Cascade bouquet for the wedding.', 'label': []}\n",
      "{'text': 'They launched the Everest headphones with noise-canceling features.', 'label': []}\n",
      "{'text': 'The Hood family has a long tradition in winemaking.', 'label': []}\n",
      "{'text': 'Her coat from the Shasta collection is perfect for winter.', 'label': []}\n",
      "{'text': 'They made a documentary on Olympus myths.', 'label': []}\n",
      "{'text': 'The Rainier edition of the laptop has an extended battery life.', 'label': []}\n",
      "{'text': 'He composed a song called Elbrus.', 'label': []}\n",
      "{'text': 'I picked up some Fuji apples at the market.', 'label': []}\n",
      "{'text': 'The Sierra mattress is one of the best-rated for comfort.', 'label': []}\n",
      "{'text': 'Her bag from the Mont Blanc series is a statement piece.', 'label': []}\n",
      "{'text': 'The Cascade speaker system offers incredible sound.', 'label': []}\n",
      "{'text': 'Their perfume line called Everest smells refreshing.', 'label': []}\n",
      "{'text': 'The Whitney chair design is minimalistic yet stylish.', 'label': []}\n",
      "{'text': 'The new Denali cookware set is surprisingly affordable.', 'label': []}\n",
      "{'text': 'He painted a scene inspired by the Olympus mythology.', 'label': []}\n",
      "{'text': 'I got a coat from the Rocky brand that’s incredibly warm.', 'label': []}\n",
      "{'text': 'She bought the Adirondack style rocking chair for the porch.', 'label': []}\n",
      "{'text': 'The McKinley phone is highly durable.', 'label': []}\n",
      "{'text': 'I attended a workshop hosted by the Atlas Society.', 'label': []}\n",
      "{'text': 'They launched a new energy drink named Kilimanjaro.', 'label': []}\n",
      "{'text': 'I gifted him the Mont Blanc wallet for his birthday.', 'label': []}\n",
      "{'text': 'The Cascade juice blend is refreshing and natural.', 'label': []}\n",
      "{'text': 'They produce Everest notebooks for professional use.', 'label': []}\n",
      "{'text': 'I signed up for a Rainier webinar on personal finance.', 'label': []}\n",
      "{'text': 'The Shasta hand cream has a soothing lavender scent.', 'label': []}\n",
      "{'text': 'He’s a designer at Whitney Fashion House.', 'label': []}\n",
      "{'text': 'The Rockies candle has a woodsy fragrance.', 'label': []}\n",
      "{'text': 'Their album titled Fuji has been trending online.', 'label': []}\n",
      "{'text': 'She ordered a Denali sleeping bag for camping.', 'label': []}\n",
      "{'text': 'He wrote a book published by Olympus Press.', 'label': []}\n",
      "{'text': 'I wore a necklace from the Sierra collection.', 'label': []}\n",
      "{'text': 'The Cascade cleaner is eco-friendly.', 'label': []}\n",
      "{'text': 'We bought McKinley pots for our kitchen remodel.', 'label': []}\n",
      "{'text': 'The new Kilimanjaro headphones offer superior sound quality.', 'label': []}\n",
      "{'text': 'Their company, Whitney, specializes in handcrafted furniture.', 'label': []}\n",
      "{'text': 'The Everest travel bag was designed with adventurers in mind.', 'label': []}\n",
      "{'text': 'They brewed a special edition Rainier coffee.', 'label': []}\n",
      "{'text': 'The Mont Blanc ink refills are smooth to write with.', 'label': []}\n",
      "{'text': 'She teaches a dance class called Adirondack.', 'label': []}\n",
      "{'text': 'I’m trying the new Cascade skincare products.', 'label': []}\n",
      "{'text': 'Their Rocky brand shoes are known for being durable.', 'label': []}\n",
      "{'text': 'The Shasta tote bag is perfect for daily use.', 'label': []}\n",
      "{'text': 'I bought Olympus lens caps for my photography gear.', 'label': []}\n",
      "{'text': 'The Fuji recipe book includes traditional Japanese dishes.', 'label': []}\n"
     ]
    }
   ],
   "execution_count": 79
  },
  {
   "metadata": {
    "ExecuteTime": {
     "end_time": "2024-11-06T20:45:24.381150Z",
     "start_time": "2024-11-06T20:45:24.289682Z"
    }
   },
   "cell_type": "code",
   "source": [
    "import pandas as pd\n",
    "from datasets import Dataset\n",
    "from sklearn.model_selection import train_test_split\n",
    "\n",
    "\n",
    "train_data, test_data = train_test_split(data, test_size=0.15, random_state=42)"
   ],
   "id": "9fdc84e05715d143",
   "outputs": [],
   "execution_count": 80
  },
  {
   "metadata": {
    "ExecuteTime": {
     "end_time": "2024-11-06T21:04:37.054883Z",
     "start_time": "2024-11-06T21:04:37.032151Z"
    }
   },
   "cell_type": "code",
   "source": [
    "from collections import Counter\n",
    "train_counts = Counter()\n",
    "test_counts = Counter()\n",
    "for item in train_data:\n",
    "    train_counts[len(item['label'])] += 1\n",
    "for item in test_data:\n",
    "    test_counts[len(item['label'])] += 1"
   ],
   "id": "673d101d910c385",
   "outputs": [],
   "execution_count": 107
  },
  {
   "metadata": {
    "ExecuteTime": {
     "end_time": "2024-11-06T21:05:36.091894Z",
     "start_time": "2024-11-06T21:05:36.084312Z"
    }
   },
   "cell_type": "code",
   "source": [
    "print(\"Mountain distribution in train sentences:\", train_counts)\n",
    "print(\"Mountain distribution in test sentences:\", test_counts)"
   ],
   "id": "4ce411189a27e70a",
   "outputs": [
    {
     "name": "stdout",
     "output_type": "stream",
     "text": [
      "Mountain distribution in train sentences: Counter({0: 250, 1: 164, 2: 5})\n",
      "Mountain distribution in test sentences: Counter({0: 42, 1: 30, 2: 2})\n"
     ]
    }
   ],
   "execution_count": 109
  },
  {
   "metadata": {
    "ExecuteTime": {
     "end_time": "2024-11-06T21:06:23.181716Z",
     "start_time": "2024-11-06T21:06:22.305797Z"
    }
   },
   "cell_type": "code",
   "source": [
    "from transformers import DataCollatorForTokenClassification\n",
    "from transformers import AutoTokenizer\n",
    "\n",
    "tokenizer = AutoTokenizer.from_pretrained(\"distilbert-base-multilingual-cased\")\n",
    "data_collator = DataCollatorForTokenClassification(tokenizer=tokenizer)"
   ],
   "id": "4f5c1f93de9bfe58",
   "outputs": [],
   "execution_count": 110
  },
  {
   "metadata": {
    "ExecuteTime": {
     "end_time": "2024-11-06T21:06:24.191200Z",
     "start_time": "2024-11-06T21:06:24.181992Z"
    }
   },
   "cell_type": "code",
   "source": [
    "label_list = [\"O\", \"B-mountain\", \"I-mountain\"]\n",
    "label2id = dict(map(lambda i: (label_list[i], i), range(3)))\n",
    "id2label = dict(map(lambda i: (i, label_list[i]), range(3)))"
   ],
   "id": "c8216f82a7a8220b",
   "outputs": [],
   "execution_count": 111
  },
  {
   "metadata": {
    "ExecuteTime": {
     "end_time": "2024-11-06T21:06:24.976684Z",
     "start_time": "2024-11-06T21:06:24.960775Z"
    }
   },
   "cell_type": "code",
   "source": [
    "def tokenize_data(dataset):\n",
    "    tokenized_data = []\n",
    "    \n",
    "    for sample in dataset:\n",
    "        text = sample[\"text\"]\n",
    "        entities = sample[\"label\"]\n",
    "        tokens = tokenizer.tokenize(tokenizer.decode(tokenizer.encode(text)))\n",
    "        labels = [0] * len(tokens)\n",
    "        \n",
    "        for start, length, _ in entities:\n",
    "            prefix_tokens = tokenizer.tokenize(tokenizer.decode(tokenizer.encode(text[:start])))\n",
    "            start_token = len(prefix_tokens) - 1\n",
    "            \n",
    "            entity_tokens = tokenizer.tokenize(tokenizer.decode(tokenizer.encode(text[start:start+length])))\n",
    "            to_ignore = entity_tokens.count(\"[SEP]\") + entity_tokens.count(\"[CLS]\")\n",
    "            end_token = start_token + len(entity_tokens) - 1 - to_ignore\n",
    "            \n",
    "            labels[start_token] = 1  # B-MOUNT\n",
    "            for idx in range(start_token+1, end_token+1):\n",
    "                labels[idx] = 2  # I-MOUNT\n",
    "\n",
    "        tokens_ids = tokenizer.convert_tokens_to_ids(tokens)   \n",
    "        tokenized_data.append({\n",
    "            'input_ids': tokens_ids,\n",
    "            'labels': labels\n",
    "        })\n",
    "    return tokenized_data"
   ],
   "id": "6546741110ba448",
   "outputs": [],
   "execution_count": 112
  },
  {
   "metadata": {
    "ExecuteTime": {
     "end_time": "2024-11-06T21:06:26.009871Z",
     "start_time": "2024-11-06T21:06:25.742519Z"
    }
   },
   "cell_type": "code",
   "source": [
    "tokenized_train_data = tokenize_data(train_data)\n",
    "tokenized_test_data = tokenize_data(test_data)"
   ],
   "id": "62291894404ccab8",
   "outputs": [],
   "execution_count": 113
  },
  {
   "metadata": {
    "ExecuteTime": {
     "end_time": "2024-11-06T21:09:34.343012Z",
     "start_time": "2024-11-06T21:09:34.339239Z"
    }
   },
   "cell_type": "code",
   "source": [
    "example = tokenized_test_data[1]\n",
    "input_ids = example[\"input_ids\"]\n",
    "labels = example[\"labels\"]\n",
    "tokens = tokenizer.convert_ids_to_tokens(input_ids)\n",
    "print(\"Ids:\", input_ids)\n",
    "print(\"Tokens:\", tokens)\n",
    "print(\"Labels:\", labels)"
   ],
   "id": "19a9a53cc140109d",
   "outputs": [
    {
     "name": "stdout",
     "output_type": "stream",
     "text": [
      "Ids: [101, 31192, 77639, 10129, 153, 25733, 31417, 10106, 63270, 19602, 10119, 103675, 11759, 33627, 10850, 10114, 10474, 79038, 14042, 119, 102]\n",
      "Tokens: ['[CLS]', 'Gang', '##kha', '##r', 'P', '##uen', '##sum', 'in', 'Bhutan', 'remains', 'un', '##cl', '##im', '##bed', 'due', 'to', 'its', 'sacred', 'status', '.', '[SEP]']\n",
      "Labels: [0, 1, 2, 2, 2, 2, 2, 0, 0, 0, 0, 0, 0, 0, 0, 0, 0, 0, 0, 0, 0]\n"
     ]
    }
   ],
   "execution_count": 117
  },
  {
   "metadata": {
    "ExecuteTime": {
     "end_time": "2024-11-06T21:09:42.062632Z",
     "start_time": "2024-11-06T21:09:40.961301Z"
    }
   },
   "cell_type": "code",
   "source": [
    "import evaluate\n",
    "\n",
    "seqeval = evaluate.load(\"seqeval\")"
   ],
   "id": "c64616ece69f3455",
   "outputs": [],
   "execution_count": 118
  },
  {
   "metadata": {
    "ExecuteTime": {
     "end_time": "2024-11-06T21:09:42.487912Z",
     "start_time": "2024-11-06T21:09:42.477414Z"
    }
   },
   "cell_type": "code",
   "source": [
    "import numpy as np\n",
    "\n",
    "def compute_metrics(p):\n",
    "    predictions, labels = p\n",
    "    predictions = np.argmax(predictions, axis=2)\n",
    "\n",
    "    true_predictions = [\n",
    "        [label_list[p] for (p, l) in zip(prediction, label) if l != -100]\n",
    "        for prediction, label in zip(predictions, labels)\n",
    "    ]\n",
    "    true_labels = [\n",
    "        [label_list[l] for (p, l) in zip(prediction, label) if l != -100]\n",
    "        for prediction, label in zip(predictions, labels)\n",
    "    ]\n",
    "\n",
    "    results = seqeval.compute(predictions=true_predictions, references=true_labels)\n",
    "    return {\n",
    "        \"precision\": results[\"overall_precision\"],\n",
    "        \"recall\": results[\"overall_recall\"],\n",
    "        \"f1\": results[\"overall_f1\"],\n",
    "        \"accuracy\": results[\"overall_accuracy\"],\n",
    "    }"
   ],
   "id": "5e27536ceac2f7df",
   "outputs": [],
   "execution_count": 119
  },
  {
   "metadata": {
    "ExecuteTime": {
     "end_time": "2024-11-06T21:09:43.922969Z",
     "start_time": "2024-11-06T21:09:43.588884Z"
    }
   },
   "cell_type": "code",
   "source": [
    "from transformers import AutoModelForTokenClassification, TrainingArguments, Trainer\n",
    "\n",
    "model = AutoModelForTokenClassification.from_pretrained(\n",
    "    \"distilbert-base-multilingual-cased\", id2label=id2label, label2id=label2id, finetuning_task=\"ner\"\n",
    ")"
   ],
   "id": "6ecb036bee1e4b79",
   "outputs": [
    {
     "name": "stderr",
     "output_type": "stream",
     "text": [
      "Some weights of DistilBertForTokenClassification were not initialized from the model checkpoint at distilbert-base-multilingual-cased and are newly initialized: ['classifier.bias', 'classifier.weight']\n",
      "You should probably TRAIN this model on a down-stream task to be able to use it for predictions and inference.\n"
     ]
    }
   ],
   "execution_count": 120
  },
  {
   "metadata": {
    "ExecuteTime": {
     "end_time": "2024-11-06T21:09:46.284354Z",
     "start_time": "2024-11-06T21:09:46.196951Z"
    }
   },
   "cell_type": "code",
   "source": [
    "train_ds = Dataset.from_pandas(pd.DataFrame(data=tokenized_train_data))\n",
    "test_ds = Dataset.from_pandas(pd.DataFrame(data=tokenized_test_data))"
   ],
   "id": "7146d2caca6d9f0f",
   "outputs": [],
   "execution_count": 121
  },
  {
   "metadata": {
    "ExecuteTime": {
     "end_time": "2024-11-06T21:22:40.362472Z",
     "start_time": "2024-11-06T21:13:42.977603Z"
    }
   },
   "cell_type": "code",
   "source": [
    "training_args = TrainingArguments(\n",
    "    output_dir=\"mountain_ner_model\",\n",
    "    num_train_epochs=6,\n",
    "    eval_strategy=\"epoch\",\n",
    "    save_strategy=\"epoch\",\n",
    "    load_best_model_at_end=True,\n",
    "    push_to_hub=True,\n",
    ")\n",
    "\n",
    "trainer = Trainer(\n",
    "    model=model,\n",
    "    args=training_args,\n",
    "    train_dataset=train_ds,\n",
    "    eval_dataset=test_ds,\n",
    "    processing_class=tokenizer,\n",
    "    data_collator=data_collator,\n",
    "    compute_metrics=compute_metrics,\n",
    ")\n",
    "\n",
    "trainer.train()"
   ],
   "id": "921c9a44f6da6eae",
   "outputs": [
    {
     "data": {
      "text/plain": [
       "<IPython.core.display.HTML object>"
      ],
      "text/html": [
       "\n",
       "    <div>\n",
       "      \n",
       "      <progress value='318' max='318' style='width:300px; height:20px; vertical-align: middle;'></progress>\n",
       "      [318/318 07:04, Epoch 6/6]\n",
       "    </div>\n",
       "    <table border=\"1\" class=\"dataframe\">\n",
       "  <thead>\n",
       " <tr style=\"text-align: left;\">\n",
       "      <th>Epoch</th>\n",
       "      <th>Training Loss</th>\n",
       "      <th>Validation Loss</th>\n",
       "      <th>Precision</th>\n",
       "      <th>Recall</th>\n",
       "      <th>F1</th>\n",
       "      <th>Accuracy</th>\n",
       "    </tr>\n",
       "  </thead>\n",
       "  <tbody>\n",
       "    <tr>\n",
       "      <td>1</td>\n",
       "      <td>No log</td>\n",
       "      <td>0.094548</td>\n",
       "      <td>0.707317</td>\n",
       "      <td>0.852941</td>\n",
       "      <td>0.773333</td>\n",
       "      <td>0.980017</td>\n",
       "    </tr>\n",
       "    <tr>\n",
       "      <td>2</td>\n",
       "      <td>No log</td>\n",
       "      <td>0.133794</td>\n",
       "      <td>0.729730</td>\n",
       "      <td>0.794118</td>\n",
       "      <td>0.760563</td>\n",
       "      <td>0.977519</td>\n",
       "    </tr>\n",
       "    <tr>\n",
       "      <td>3</td>\n",
       "      <td>No log</td>\n",
       "      <td>0.136903</td>\n",
       "      <td>0.852941</td>\n",
       "      <td>0.852941</td>\n",
       "      <td>0.852941</td>\n",
       "      <td>0.981682</td>\n",
       "    </tr>\n",
       "    <tr>\n",
       "      <td>4</td>\n",
       "      <td>No log</td>\n",
       "      <td>0.137077</td>\n",
       "      <td>0.852941</td>\n",
       "      <td>0.852941</td>\n",
       "      <td>0.852941</td>\n",
       "      <td>0.981682</td>\n",
       "    </tr>\n",
       "    <tr>\n",
       "      <td>5</td>\n",
       "      <td>No log</td>\n",
       "      <td>0.137676</td>\n",
       "      <td>0.852941</td>\n",
       "      <td>0.852941</td>\n",
       "      <td>0.852941</td>\n",
       "      <td>0.981682</td>\n",
       "    </tr>\n",
       "    <tr>\n",
       "      <td>6</td>\n",
       "      <td>No log</td>\n",
       "      <td>0.137897</td>\n",
       "      <td>0.852941</td>\n",
       "      <td>0.852941</td>\n",
       "      <td>0.852941</td>\n",
       "      <td>0.981682</td>\n",
       "    </tr>\n",
       "  </tbody>\n",
       "</table><p>"
      ]
     },
     "metadata": {},
     "output_type": "display_data"
    },
    {
     "name": "stdout",
     "output_type": "stream",
     "text": [
      "{'mountain': {'precision': 0.7073170731707317, 'recall': 0.8529411764705882, 'f1': 0.7733333333333334, 'number': 34}, 'overall_precision': 0.7073170731707317, 'overall_recall': 0.8529411764705882, 'overall_f1': 0.7733333333333334, 'overall_accuracy': 0.9800166527893422}\n",
      "{'mountain': {'precision': 0.7297297297297297, 'recall': 0.7941176470588235, 'f1': 0.7605633802816901, 'number': 34}, 'overall_precision': 0.7297297297297297, 'overall_recall': 0.7941176470588235, 'overall_f1': 0.7605633802816901, 'overall_accuracy': 0.97751873438801}\n",
      "{'mountain': {'precision': 0.8529411764705882, 'recall': 0.8529411764705882, 'f1': 0.8529411764705882, 'number': 34}, 'overall_precision': 0.8529411764705882, 'overall_recall': 0.8529411764705882, 'overall_f1': 0.8529411764705882, 'overall_accuracy': 0.9816819317235637}\n",
      "{'mountain': {'precision': 0.8529411764705882, 'recall': 0.8529411764705882, 'f1': 0.8529411764705882, 'number': 34}, 'overall_precision': 0.8529411764705882, 'overall_recall': 0.8529411764705882, 'overall_f1': 0.8529411764705882, 'overall_accuracy': 0.9816819317235637}\n",
      "{'mountain': {'precision': 0.8529411764705882, 'recall': 0.8529411764705882, 'f1': 0.8529411764705882, 'number': 34}, 'overall_precision': 0.8529411764705882, 'overall_recall': 0.8529411764705882, 'overall_f1': 0.8529411764705882, 'overall_accuracy': 0.9816819317235637}\n",
      "{'mountain': {'precision': 0.8529411764705882, 'recall': 0.8529411764705882, 'f1': 0.8529411764705882, 'number': 34}, 'overall_precision': 0.8529411764705882, 'overall_recall': 0.8529411764705882, 'overall_f1': 0.8529411764705882, 'overall_accuracy': 0.9816819317235637}\n"
     ]
    },
    {
     "data": {
      "text/plain": [
       "TrainOutput(global_step=318, training_loss=0.001313672031996385, metrics={'train_runtime': 427.8977, 'train_samples_per_second': 5.875, 'train_steps_per_second': 0.743, 'total_flos': 13152309633000.0, 'train_loss': 0.001313672031996385, 'epoch': 6.0})"
      ]
     },
     "execution_count": 123,
     "metadata": {},
     "output_type": "execute_result"
    }
   ],
   "execution_count": 123
  },
  {
   "metadata": {
    "ExecuteTime": {
     "end_time": "2024-11-06T21:22:56.496064Z",
     "start_time": "2024-11-06T21:22:56.492610Z"
    }
   },
   "cell_type": "code",
   "source": [
    "from transformers import pipeline\n",
    "\n",
    "classifier = pipeline(\"ner\", model=model, tokenizer=tokenizer) # \"Liubavaa/mountain_ner_model\")"
   ],
   "id": "cfa7015a170c6393",
   "outputs": [],
   "execution_count": 131
  },
  {
   "metadata": {
    "ExecuteTime": {
     "end_time": "2024-11-06T21:22:57.129907Z",
     "start_time": "2024-11-06T21:22:57.089306Z"
    }
   },
   "cell_type": "code",
   "source": [
    "text = \"The highest mountain on Earth is Everest in the Himalayas of Asia, whose summit is 8,850 m (29,035 ft) above mean sea level.\"\n",
    "classifier(text)"
   ],
   "id": "782334d3e74ddb31",
   "outputs": [
    {
     "data": {
      "text/plain": [
       "[{'entity': 'B-mountain',\n",
       "  'score': 0.8549887,\n",
       "  'index': 7,\n",
       "  'word': 'Everest',\n",
       "  'start': 33,\n",
       "  'end': 40},\n",
       " {'entity': 'B-mountain',\n",
       "  'score': 0.5293795,\n",
       "  'index': 10,\n",
       "  'word': 'Himalaya',\n",
       "  'start': 48,\n",
       "  'end': 56}]"
      ]
     },
     "execution_count": 132,
     "metadata": {},
     "output_type": "execute_result"
    }
   ],
   "execution_count": 132
  },
  {
   "metadata": {
    "ExecuteTime": {
     "end_time": "2024-11-06T22:04:18.374392Z",
     "start_time": "2024-11-06T22:04:15.923501Z"
    }
   },
   "cell_type": "code",
   "source": "trainer.evaluate()",
   "id": "2b49a8340b76b965",
   "outputs": [
    {
     "data": {
      "text/plain": [
       "<IPython.core.display.HTML object>"
      ],
      "text/html": [
       "\n",
       "    <div>\n",
       "      \n",
       "      <progress value='10' max='10' style='width:300px; height:20px; vertical-align: middle;'></progress>\n",
       "      [10/10 00:01]\n",
       "    </div>\n",
       "    "
      ]
     },
     "metadata": {},
     "output_type": "display_data"
    },
    {
     "name": "stdout",
     "output_type": "stream",
     "text": [
      "{'mountain': {'precision': 0.7073170731707317, 'recall': 0.8529411764705882, 'f1': 0.7733333333333334, 'number': 34}, 'overall_precision': 0.7073170731707317, 'overall_recall': 0.8529411764705882, 'overall_f1': 0.7733333333333334, 'overall_accuracy': 0.9800166527893422}\n"
     ]
    },
    {
     "data": {
      "text/plain": [
       "{'eval_loss': 0.09454839676618576,\n",
       " 'eval_precision': 0.7073170731707317,\n",
       " 'eval_recall': 0.8529411764705882,\n",
       " 'eval_f1': 0.7733333333333334,\n",
       " 'eval_accuracy': 0.9800166527893422,\n",
       " 'eval_runtime': 2.3082,\n",
       " 'eval_samples_per_second': 32.059,\n",
       " 'eval_steps_per_second': 4.332,\n",
       " 'epoch': 6.0}"
      ]
     },
     "execution_count": 133,
     "metadata": {},
     "output_type": "execute_result"
    }
   ],
   "execution_count": 133
  },
  {
   "metadata": {},
   "cell_type": "code",
   "outputs": [],
   "execution_count": null,
   "source": "",
   "id": "b9363114f23938b7"
  }
 ],
 "metadata": {
  "kernelspec": {
   "display_name": "Python 3 (ipykernel)",
   "language": "python",
   "name": "python3"
  },
  "language_info": {
   "codemirror_mode": {
    "name": "ipython",
    "version": 2
   },
   "file_extension": ".py",
   "mimetype": "text/x-python",
   "name": "python",
   "nbconvert_exporter": "python",
   "pygments_lexer": "ipython2",
   "version": "2.7.6"
  }
 },
 "nbformat": 4,
 "nbformat_minor": 5
}
