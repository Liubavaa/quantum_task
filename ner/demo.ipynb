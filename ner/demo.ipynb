{
 "cells": [
  {
   "cell_type": "code",
   "id": "initial_id",
   "metadata": {
    "collapsed": true,
    "ExecuteTime": {
     "end_time": "2024-11-06T23:21:14.995178Z",
     "start_time": "2024-11-06T23:21:14.422358Z"
    }
   },
   "source": [
    "from transformers import pipeline\n",
    "\n",
    "# Load model for inference\n",
    "classifier = pipeline(\"ner\", model=\"Liubavaa/mountain_ner_model\")\n",
    "\n",
    "# Test with example sentences\n",
    "example_sentences = [\"The hike to the Carpathians was incredible.\", \n",
    "                     \"The highest mountain on Earth is Everest in the Himalayas of Asia, whose summit is 8,850 m (29,035 ft) above mean sea level.\",\n",
    "                     \"Lviv is nice place.\",\n",
    "                     \"My dog's name is Elbrus.\"]\n",
    "for sentence in example_sentences:\n",
    "    print(f\"Input: {sentence}\")\n",
    "    print(\"Entities:\", classifier(sentence))\n",
    "    print(\"\\n\")\n"
   ],
   "outputs": [
    {
     "name": "stdout",
     "output_type": "stream",
     "text": [
      "Input: The hike to the Carpathians was incredible.\n",
      "Entities: [{'entity': 'B-mountain', 'score': 0.99989593, 'index': 6, 'word': 'Car', 'start': 16, 'end': 19}, {'entity': 'I-mountain', 'score': 0.9998838, 'index': 7, 'word': '##pat', 'start': 19, 'end': 22}, {'entity': 'I-mountain', 'score': 0.9999467, 'index': 8, 'word': '##hian', 'start': 22, 'end': 26}, {'entity': 'I-mountain', 'score': 0.99995124, 'index': 9, 'word': '##s', 'start': 26, 'end': 27}]\n",
      "\n",
      "\n",
      "Input: The highest mountain on Earth is Everest in the Himalayas of Asia, whose summit is 8,850 m (29,035 ft) above mean sea level.\n",
      "Entities: [{'entity': 'B-mountain', 'score': 0.99589515, 'index': 7, 'word': 'Everest', 'start': 33, 'end': 40}, {'entity': 'I-mountain', 'score': 0.54320776, 'index': 11, 'word': '##s', 'start': 56, 'end': 57}]\n",
      "\n",
      "\n",
      "Input: Lviv is nice place.\n",
      "Entities: []\n",
      "\n",
      "\n",
      "Input: My dog's name is Elbrus.\n",
      "Entities: []\n",
      "\n",
      "\n"
     ]
    }
   ],
   "execution_count": 3
  },
  {
   "metadata": {},
   "cell_type": "code",
   "outputs": [],
   "execution_count": null,
   "source": "",
   "id": "5e4e6bdd738f7c63"
  }
 ],
 "metadata": {
  "kernelspec": {
   "display_name": "Python 3",
   "language": "python",
   "name": "python3"
  },
  "language_info": {
   "codemirror_mode": {
    "name": "ipython",
    "version": 2
   },
   "file_extension": ".py",
   "mimetype": "text/x-python",
   "name": "python",
   "nbconvert_exporter": "python",
   "pygments_lexer": "ipython2",
   "version": "2.7.6"
  }
 },
 "nbformat": 4,
 "nbformat_minor": 5
}
